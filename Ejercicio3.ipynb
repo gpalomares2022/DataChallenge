{
 "cells": [
  {
   "cell_type": "markdown",
   "id": "68b7a27a",
   "metadata": {},
   "source": [
    "##Plot the monthly number of searches for\n",
    "flights arriving at Málaga, Madrid or\n",
    "Barcelona"
   ]
  },
  {
   "cell_type": "code",
   "execution_count": 1,
   "id": "326135e8",
   "metadata": {},
   "outputs": [],
   "source": [
    "import pandas as pd\n",
    "import matplotlib.pyplot as plt\n",
    "import numpy as np\n",
    "import seaborn as sn\n",
    "import bz2\n",
    "import csv"
   ]
  },
  {
   "cell_type": "code",
   "execution_count": 2,
   "id": "250f8afb",
   "metadata": {},
   "outputs": [
    {
     "name": "stdout",
     "output_type": "stream",
     "text": [
      "Ejercicio 3.ipynb   Ejercicio2.ipynb    data_challenge.pdf\r\n",
      "Ejercicio1.ipynb    bookings.csv.bz2    searches.csv.bz2\r\n"
     ]
    }
   ],
   "source": [
    "ls"
   ]
  },
  {
   "cell_type": "code",
   "execution_count": 170,
   "id": "421bd00d",
   "metadata": {},
   "outputs": [
    {
     "name": "stderr",
     "output_type": "stream",
     "text": [
      "/var/folders/nn/9rd8vn51433_x8fsjtycsfh80000gq/T/ipykernel_2793/4175569650.py:2: DtypeWarning: Columns (44) have mixed types. Specify dtype option on import or set low_memory=False.\n",
      "  searches_sample=pd.read_csv (\"searches.csv.bz2\", sep=\"^\", nrows=500000)\n",
      "/var/folders/nn/9rd8vn51433_x8fsjtycsfh80000gq/T/ipykernel_2793/4175569650.py:4: SettingWithCopyWarning: \n",
      "A value is trying to be set on a copy of a slice from a DataFrame.\n",
      "Try using .loc[row_indexer,col_indexer] = value instead\n",
      "\n",
      "See the caveats in the documentation: https://pandas.pydata.org/pandas-docs/stable/user_guide/indexing.html#returning-a-view-versus-a-copy\n",
      "  searches_samples_clean['contar']=1\n"
     ]
    }
   ],
   "source": [
    "pd.options.display.max_columns=None\n",
    "searches_sample=pd.read_csv (\"searches.csv.bz2\", sep=\"^\", nrows=500000)\n",
    "searches_samples_clean= searches_sample[['Date', 'Destination']]\n",
    "searches_samples_clean['contar']=1\n",
    "#nos quedamos con Date y Destination, y una columna más de contar para luego hacer conteo\n",
    "\n",
    "#ojo, truco de profe searches_sample=pd.read_csv (\"searches.csv.bz2\", sep=\"^\", nrows=500000, usecols=[\"Date\",\"Destination\"])\n",
    "#ya directamente nos traemos date y destination"
   ]
  },
  {
   "cell_type": "code",
   "execution_count": 171,
   "id": "931c58a0",
   "metadata": {},
   "outputs": [
    {
     "name": "stderr",
     "output_type": "stream",
     "text": [
      "/var/folders/nn/9rd8vn51433_x8fsjtycsfh80000gq/T/ipykernel_2793/374554528.py:1: SettingWithCopyWarning: \n",
      "A value is trying to be set on a copy of a slice from a DataFrame.\n",
      "Try using .loc[row_indexer,col_indexer] = value instead\n",
      "\n",
      "See the caveats in the documentation: https://pandas.pydata.org/pandas-docs/stable/user_guide/indexing.html#returning-a-view-versus-a-copy\n",
      "  searches_samples_clean['Date']=searches_samples_clean['Date'].str[5:7]\n"
     ]
    }
   ],
   "source": [
    "searches_samples_clean['Date']=searches_samples_clean['Date'].str[5:7]\n",
    "#Sacamos el mes y asignamos a Date (tenemos fecha completa)"
   ]
  },
  {
   "cell_type": "code",
   "execution_count": 172,
   "id": "539230c1",
   "metadata": {},
   "outputs": [
    {
     "data": {
      "text/html": [
       "<div>\n",
       "<style scoped>\n",
       "    .dataframe tbody tr th:only-of-type {\n",
       "        vertical-align: middle;\n",
       "    }\n",
       "\n",
       "    .dataframe tbody tr th {\n",
       "        vertical-align: top;\n",
       "    }\n",
       "\n",
       "    .dataframe thead th {\n",
       "        text-align: right;\n",
       "    }\n",
       "</style>\n",
       "<table border=\"1\" class=\"dataframe\">\n",
       "  <thead>\n",
       "    <tr style=\"text-align: right;\">\n",
       "      <th></th>\n",
       "      <th>Date</th>\n",
       "      <th>Destination</th>\n",
       "      <th>contar</th>\n",
       "    </tr>\n",
       "  </thead>\n",
       "  <tbody>\n",
       "    <tr>\n",
       "      <th>4</th>\n",
       "      <td>01</td>\n",
       "      <td>MAD</td>\n",
       "      <td>1</td>\n",
       "    </tr>\n",
       "    <tr>\n",
       "      <th>93</th>\n",
       "      <td>01</td>\n",
       "      <td>AGP</td>\n",
       "      <td>1</td>\n",
       "    </tr>\n",
       "    <tr>\n",
       "      <th>113</th>\n",
       "      <td>01</td>\n",
       "      <td>BCN</td>\n",
       "      <td>1</td>\n",
       "    </tr>\n",
       "    <tr>\n",
       "      <th>147</th>\n",
       "      <td>01</td>\n",
       "      <td>AGP</td>\n",
       "      <td>1</td>\n",
       "    </tr>\n",
       "    <tr>\n",
       "      <th>151</th>\n",
       "      <td>01</td>\n",
       "      <td>MAD</td>\n",
       "      <td>1</td>\n",
       "    </tr>\n",
       "  </tbody>\n",
       "</table>\n",
       "</div>"
      ],
      "text/plain": [
       "    Date Destination  contar\n",
       "4     01         MAD       1\n",
       "93    01         AGP       1\n",
       "113   01         BCN       1\n",
       "147   01         AGP       1\n",
       "151   01         MAD       1"
      ]
     },
     "execution_count": 172,
     "metadata": {},
     "output_type": "execute_result"
    }
   ],
   "source": [
    "searches_samples_clean_MADBCNAGP= searches_samples_clean [searches_samples_clean['Destination'].isin ({'MAD','BCN','AGP'})]\n",
    "searches_samples_clean_MADBCNAGP.head()\n",
    "#filtramos sólo por Madrid, Malaga y Barcelona"
   ]
  },
  {
   "cell_type": "code",
   "execution_count": 173,
   "id": "bb8f9198",
   "metadata": {},
   "outputs": [
    {
     "data": {
      "text/html": [
       "<div>\n",
       "<style scoped>\n",
       "    .dataframe tbody tr th:only-of-type {\n",
       "        vertical-align: middle;\n",
       "    }\n",
       "\n",
       "    .dataframe tbody tr th {\n",
       "        vertical-align: top;\n",
       "    }\n",
       "\n",
       "    .dataframe thead th {\n",
       "        text-align: right;\n",
       "    }\n",
       "</style>\n",
       "<table border=\"1\" class=\"dataframe\">\n",
       "  <thead>\n",
       "    <tr style=\"text-align: right;\">\n",
       "      <th></th>\n",
       "      <th>Destination</th>\n",
       "      <th>Date</th>\n",
       "      <th>contar</th>\n",
       "    </tr>\n",
       "  </thead>\n",
       "  <tbody>\n",
       "    <tr>\n",
       "      <th>0</th>\n",
       "      <td>AGP</td>\n",
       "      <td>01</td>\n",
       "      <td>338</td>\n",
       "    </tr>\n",
       "    <tr>\n",
       "      <th>1</th>\n",
       "      <td>AGP</td>\n",
       "      <td>02</td>\n",
       "      <td>294</td>\n",
       "    </tr>\n",
       "    <tr>\n",
       "      <th>2</th>\n",
       "      <td>AGP</td>\n",
       "      <td>03</td>\n",
       "      <td>374</td>\n",
       "    </tr>\n",
       "    <tr>\n",
       "      <th>3</th>\n",
       "      <td>AGP</td>\n",
       "      <td>04</td>\n",
       "      <td>290</td>\n",
       "    </tr>\n",
       "    <tr>\n",
       "      <th>4</th>\n",
       "      <td>AGP</td>\n",
       "      <td>05</td>\n",
       "      <td>310</td>\n",
       "    </tr>\n",
       "  </tbody>\n",
       "</table>\n",
       "</div>"
      ],
      "text/plain": [
       "  Destination Date  contar\n",
       "0         AGP   01     338\n",
       "1         AGP   02     294\n",
       "2         AGP   03     374\n",
       "3         AGP   04     290\n",
       "4         AGP   05     310"
      ]
     },
     "execution_count": 173,
     "metadata": {},
     "output_type": "execute_result"
    }
   ],
   "source": [
    "searches_samples_clean_MADBCNAGP=searches_samples_clean_MADBCNAGP.groupby(['Destination','Date']).count().reset_index()\n",
    "searches_samples_clean_MADBCNAGP.head()\n",
    "#y ahora hacemos el conteo!!! al agrupar por Destination y Date, se queda sólo la columna contar, el conteo se guarda ahí"
   ]
  },
  {
   "cell_type": "code",
   "execution_count": 175,
   "id": "c2462a24",
   "metadata": {},
   "outputs": [
    {
     "data": {
      "image/png": "[encoded data removed]",
      "text/plain": [
       "<Figure size 640x480 with 1 Axes>"
      ]
     },
     "metadata": {},
     "output_type": "display_data"
    }
   ],
   "source": [
    "sn.lineplot (data=searches_samples_clean_MADBCNAGP, x='Date', y='contar', hue='Destination');"
   ]
  },
  {
   "cell_type": "code",
   "execution_count": 120,
   "id": "e4ab27c1",
   "metadata": {},
   "outputs": [],
   "source": []
  },
  {
   "cell_type": "code",
   "execution_count": null,
   "id": "33623746",
   "metadata": {},
   "outputs": [],
   "source": []
  },
  {
   "cell_type": "code",
   "execution_count": null,
   "id": "5d46bc9b",
   "metadata": {},
   "outputs": [],
   "source": []
  },
  {
   "cell_type": "code",
   "execution_count": null,
   "id": "ed180fdc",
   "metadata": {},
   "outputs": [],
   "source": []
  },
  {
   "cell_type": "code",
   "execution_count": null,
   "id": "bcb4b784",
   "metadata": {},
   "outputs": [],
   "source": []
  },
  {
   "cell_type": "code",
   "execution_count": null,
   "id": "e8ee718d",
   "metadata": {},
   "outputs": [],
   "source": []
  },
  {
   "cell_type": "code",
   "execution_count": null,
   "id": "19b85c56",
   "metadata": {},
   "outputs": [],
   "source": []
  },
  {
   "cell_type": "code",
   "execution_count": null,
   "id": "7522a403",
   "metadata": {},
   "outputs": [],
   "source": []
  },
  {
   "cell_type": "code",
   "execution_count": null,
   "id": "33e1081e",
   "metadata": {},
   "outputs": [],
   "source": []
  },
  {
   "cell_type": "code",
   "execution_count": null,
   "id": "e6e19316",
   "metadata": {},
   "outputs": [],
   "source": []
  },
  {
   "cell_type": "code",
   "execution_count": 23,
   "id": "55eee761",
   "metadata": {},
   "outputs": [],
   "source": []
  },
  {
   "cell_type": "code",
   "execution_count": null,
   "id": "9282725e",
   "metadata": {},
   "outputs": [],
   "source": []
  },
  {
   "cell_type": "code",
   "execution_count": null,
   "id": "48cbaca4",
   "metadata": {},
   "outputs": [],
   "source": []
  }
 ],
 "metadata": {
  "kernelspec": {
   "display_name": "Python 3 (ipykernel)",
   "language": "python",
   "name": "python3"
  },
  "language_info": {
   "codemirror_mode": {
    "name": "ipython",
    "version": 3
   },
   "file_extension": ".py",
   "mimetype": "text/x-python",
   "name": "python",
   "nbconvert_exporter": "python",
   "pygments_lexer": "ipython3",
   "version": "3.9.13"
  }
 },
 "nbformat": 4,
 "nbformat_minor": 5
}
