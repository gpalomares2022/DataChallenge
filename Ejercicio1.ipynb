{
 "cells": [
  {
   "cell_type": "code",
   "execution_count": 3,
   "id": "706435e5",
   "metadata": {},
   "outputs": [],
   "source": [
    "import pandas as pd\n",
    "import matplotlib.pyplot as plt\n",
    "import numpy as np\n",
    "import seaborn as sn"
   ]
  },
  {
   "cell_type": "code",
   "execution_count": 4,
   "id": "6420548c",
   "metadata": {},
   "outputs": [
    {
     "name": "stdout",
     "output_type": "stream",
     "text": [
      "3686282\n"
     ]
    }
   ],
   "source": [
    "import csv\n",
    "\n",
    "with open('bookings.csv.bz2', \"r\", errors='ignore') as f:\n",
    "     row_count = sum(1 for row in f)\n",
    "\n",
    "print(row_count)\n",
    "#no devuelve todo bien, ignora errores... deben ser 10 mill. Esto es porque no es un archivo de texto, ex comprimido.\n"
   ]
  },
  {
   "cell_type": "code",
   "execution_count": 20,
   "id": "5c638a6a",
   "metadata": {},
   "outputs": [
    {
     "name": "stdout",
     "output_type": "stream",
     "text": [
      "3837781\n"
     ]
    }
   ],
   "source": [
    "\n",
    "\n",
    "with open('searches.csv.bz2', \"r\", errors='ignore') as f:\n",
    "     row_count = sum(1 for row in f)\n",
    "\n",
    "print(row_count)\n",
    "#no devuelve todo bien, ignora errores... deben ser 10 mill. Esto es porque no es un archivo de texto, ex comprimido.\n"
   ]
  },
  {
   "cell_type": "code",
   "execution_count": 6,
   "id": "6195a71d",
   "metadata": {},
   "outputs": [
    {
     "data": {
      "text/plain": [
       "b'act_date           ^source^pos_ctry^pos_iata^pos_oid  ^rloc          ^cre_date           ^duration^distance^dep_port^dep_city^dep_ctry^arr_port^arr_city^arr_ctry^lst_port^lst_city^lst_ctry^brd_port^brd_city^brd_ctry^off_port^off_city^off_ctry^mkt_port^mkt_city^mkt_ctry^intl^route          ^carrier^bkg_class^cab_class^brd_time           ^off_time           ^pax^year^month^oid      \\n'"
      ]
     },
     "execution_count": 6,
     "metadata": {},
     "output_type": "execute_result"
    }
   ],
   "source": [
    "import bz2\n",
    "#usamos bz2 para leer este tipo de ficheros\n",
    "bzfile=bz2.open(\"bookings.csv.bz2\")\n",
    "bzfile.readline() #vamos leyendo lineas"
   ]
  },
  {
   "cell_type": "code",
   "execution_count": 9,
   "id": "2f8a36b6",
   "metadata": {},
   "outputs": [
    {
     "data": {
      "text/plain": [
       "10000011"
      ]
     },
     "execution_count": 9,
     "metadata": {},
     "output_type": "execute_result"
    }
   ],
   "source": [
    "n_lineas=0\n",
    "with bz2.open('bookings.csv.bz2') as ficherobz:\n",
    "     for line in (ficherobz):\n",
    "        n_lineas+=1\n",
    "#lo cargamos en ficherobz, y con un bucle for line in, vamos sumando lineas        \n",
    "n_lineas"
   ]
  },
  {
   "cell_type": "code",
   "execution_count": 10,
   "id": "2420dfc8",
   "metadata": {},
   "outputs": [
    {
     "data": {
      "text/plain": [
       "20390199"
      ]
     },
     "execution_count": 10,
     "metadata": {},
     "output_type": "execute_result"
    }
   ],
   "source": [
    "n_lineas=0\n",
    "with bz2.open('searches.csv.bz2') as ficherobz:\n",
    "     for line in (ficherobz):\n",
    "        n_lineas+=1\n",
    "        \n",
    "n_lineas"
   ]
  },
  {
   "cell_type": "code",
   "execution_count": null,
   "id": "81132ce7",
   "metadata": {},
   "outputs": [],
   "source": []
  }
 ],
 "metadata": {
  "kernelspec": {
   "display_name": "Python 3 (ipykernel)",
   "language": "python",
   "name": "python3"
  },
  "language_info": {
   "codemirror_mode": {
    "name": "ipython",
    "version": 3
   },
   "file_extension": ".py",
   "mimetype": "text/x-python",
   "name": "python",
   "nbconvert_exporter": "python",
   "pygments_lexer": "ipython3",
   "version": "3.9.13"
  }
 },
 "nbformat": 4,
 "nbformat_minor": 5
}
