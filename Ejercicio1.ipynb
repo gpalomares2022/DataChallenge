{
 "cells": [
  {
   "cell_type": "code",
   "execution_count": 3,
   "id": "706435e5",
   "metadata": {},
   "outputs": [],
   "source": [
    "import pandas as pd\n",
    "import matplotlib.pyplot as plt\n",
    "import numpy as np\n",
    "import seaborn as sn"
   ]
  },
  {
   "cell_type": "code",
   "execution_count": 22,
   "id": "6420548c",
   "metadata": {},
   "outputs": [
    {
     "name": "stdout",
     "output_type": "stream",
     "text": [
      "3691245\n"
     ]
    }
   ],
   "source": [
    "import csv\n",
    "\n",
    "with open('bookings.csv.bz2', \"r\", errors='ignore') as f:\n",
    "     row_count = sum(1 for row in f)\n",
    "\n",
    "print(row_count)\n",
    "#no devuelve todo bien, ignora errores... deben ser 10 mill"
   ]
  },
  {
   "cell_type": "code",
   "execution_count": 20,
   "id": "5c638a6a",
   "metadata": {},
   "outputs": [
    {
     "name": "stdout",
     "output_type": "stream",
     "text": [
      "3837781\n"
     ]
    }
   ],
   "source": [
    "import csv\n",
    "\n",
    "with open('searches.csv.bz2', \"r\", errors='ignore') as f:\n",
    "     row_count = sum(1 for row in f)\n",
    "\n",
    "print(row_count)"
   ]
  },
  {
   "cell_type": "code",
   "execution_count": 11,
   "id": "2420dfc8",
   "metadata": {},
   "outputs": [
    {
     "name": "stdout",
     "output_type": "stream",
     "text": [
      " El volumen de la unidad C no tiene etiqueta.\n",
      " El n£mero de serie del volumen es: 00FD-1088\n",
      "\n",
      " Directorio de C:\\Users\\user\\Dropbox\\Master\\DataChallenge\n",
      "\n",
      "07/02/2023  20:20    <DIR>          .\n",
      "07/02/2023  20:20    <DIR>          ..\n",
      "07/02/2023  20:18    <DIR>          .git\n",
      "07/02/2023  19:49    <DIR>          .ipynb_checkpoints\n",
      "07/02/2023  20:17       554.970.628 bookings.csv.bz2\n",
      "07/02/2023  20:10             9.590 Ejercicio1.ipynb\n",
      "07/02/2023  20:17       483.188.920 searches.csv.bz2\n",
      "               3 archivos  1.038.169.138 bytes\n",
      "               4 dirs  159.166.115.840 bytes libres\n"
     ]
    }
   ],
   "source": [
    "ls"
   ]
  },
  {
   "cell_type": "code",
   "execution_count": null,
   "id": "81132ce7",
   "metadata": {},
   "outputs": [],
   "source": []
  }
 ],
 "metadata": {
  "kernelspec": {
   "display_name": "Python 3 (ipykernel)",
   "language": "python",
   "name": "python3"
  },
  "language_info": {
   "codemirror_mode": {
    "name": "ipython",
    "version": 3
   },
   "file_extension": ".py",
   "mimetype": "text/x-python",
   "name": "python",
   "nbconvert_exporter": "python",
   "pygments_lexer": "ipython3",
   "version": "3.9.13"
  }
 },
 "nbformat": 4,
 "nbformat_minor": 5
}
