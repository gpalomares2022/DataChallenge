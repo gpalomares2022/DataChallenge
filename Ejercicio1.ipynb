{
 "cells": [
  {
   "cell_type": "code",
   "execution_count": 1,
   "id": "defa2f18",
   "metadata": {},
   "outputs": [
    {
     "name": "stderr",
     "output_type": "stream",
     "text": [
      "\"ls\" no se reconoce como un comando interno o externo,\n",
      "programa o archivo por lotes ejecutable.\n"
     ]
    }
   ],
   "source": [
    "!ls"
   ]
  },
  {
   "cell_type": "code",
   "execution_count": 2,
   "id": "83a278d5",
   "metadata": {},
   "outputs": [
    {
     "name": "stdout",
     "output_type": "stream",
     "text": [
      " El volumen de la unidad C no tiene etiqueta.\n",
      " El n£mero de serie del volumen es: 00FD-1088\n",
      "\n",
      " Directorio de C:\\Users\\user\\Dropbox\\Master\\DataChallenge\n",
      "\n",
      "07/02/2023  19:45    <DIR>          .\n",
      "07/02/2023  19:45    <DIR>          ..\n",
      "07/02/2023  19:42    <DIR>          .git\n",
      "07/02/2023  19:42    <DIR>          .ipynb_checkpoints\n",
      "07/02/2023  19:45       554.970.628 bookings.csv.bz2\n",
      "07/02/2023  19:45       483.188.920 searches.csv.bz2\n",
      "07/02/2023  19:44               589 Untitled.ipynb\n",
      "               3 archivos  1.038.160.137 bytes\n",
      "               4 dirs  162.438.979.584 bytes libres\n"
     ]
    }
   ],
   "source": [
    "ls"
   ]
  },
  {
   "cell_type": "code",
   "execution_count": null,
   "id": "e0ed4cb8",
   "metadata": {},
   "outputs": [],
   "source": []
  }
 ],
 "metadata": {
  "kernelspec": {
   "display_name": "Python 3 (ipykernel)",
   "language": "python",
   "name": "python3"
  },
  "language_info": {
   "codemirror_mode": {
    "name": "ipython",
    "version": 3
   },
   "file_extension": ".py",
   "mimetype": "text/x-python",
   "name": "python",
   "nbconvert_exporter": "python",
   "pygments_lexer": "ipython3",
   "version": "3.9.13"
  }
 },
 "nbformat": 4,
 "nbformat_minor": 5
}
