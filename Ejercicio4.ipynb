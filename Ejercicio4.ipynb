{
 "cells": [
  {
   "cell_type": "markdown",
   "id": "a375fc61",
   "metadata": {},
   "source": [
    "## Ejercicio 4"
   ]
  },
  {
   "cell_type": "markdown",
   "id": "0d1cea77",
   "metadata": {},
   "source": [
    "Match searches with bookings\n",
    "• For every search in the searches file, find out whether\n",
    "the search ended up in a booking or not (using the info\n",
    "in the bookings file). For instance, search and booking\n",
    "origin and destination should match."
   ]
  },
  {
   "cell_type": "code",
   "execution_count": 1,
   "id": "19fa9274",
   "metadata": {},
   "outputs": [],
   "source": [
    "import pandas as pd\n",
    "import matplotlib.pyplot as plt\n",
    "import numpy as np\n",
    "import seaborn as sn\n",
    "import bz2\n",
    "import csv"
   ]
  },
  {
   "cell_type": "code",
   "execution_count": 2,
   "id": "70545a48",
   "metadata": {},
   "outputs": [
    {
     "name": "stdout",
     "output_type": "stream",
     "text": [
      "total 2032776\r\n",
      "-rw-r--r--@ 1 o002629  staff  483188920  7 feb 18:32 searches.csv.bz2\r\n",
      "-rw-r--r--@ 1 o002629  staff  554970628  7 feb 18:32 bookings.csv.bz2\r\n",
      "-rw-r--r--@ 1 o002629  staff    2485380  7 feb 19:09 data_challenge.pdf\r\n",
      "-rw-r--r--  1 o002629  staff       4601  8 feb 19:20 Ejercicio1.ipynb\r\n",
      "-rw-r--r--  1 o002629  staff      35917  9 feb 19:08 Ejercicio2.ipynb\r\n",
      "-rw-r--r--@ 1 o002629  staff      63535 14 feb 19:36 Ejercicio3.ipynb\r\n",
      "-rw-r--r--  1 o002629  staff      17359 14 feb 20:46 Ejercicio 4.ipynb\r\n"
     ]
    }
   ],
   "source": [
    "ls -lrt"
   ]
  },
  {
   "cell_type": "code",
   "execution_count": 7,
   "id": "5a10b8fe",
   "metadata": {},
   "outputs": [
    {
     "data": {
      "text/html": [
       "<div>\n",
       "<style scoped>\n",
       "    .dataframe tbody tr th:only-of-type {\n",
       "        vertical-align: middle;\n",
       "    }\n",
       "\n",
       "    .dataframe tbody tr th {\n",
       "        vertical-align: top;\n",
       "    }\n",
       "\n",
       "    .dataframe thead th {\n",
       "        text-align: right;\n",
       "    }\n",
       "</style>\n",
       "<table border=\"1\" class=\"dataframe\">\n",
       "  <thead>\n",
       "    <tr style=\"text-align: right;\">\n",
       "      <th></th>\n",
       "      <th>Date</th>\n",
       "      <th>Origin</th>\n",
       "      <th>Destination</th>\n",
       "      <th>Seg1Date</th>\n",
       "    </tr>\n",
       "  </thead>\n",
       "  <tbody>\n",
       "    <tr>\n",
       "      <th>0</th>\n",
       "      <td>2013-01-01</td>\n",
       "      <td>TXL</td>\n",
       "      <td>AUH</td>\n",
       "      <td>2013-01-26</td>\n",
       "    </tr>\n",
       "    <tr>\n",
       "      <th>1</th>\n",
       "      <td>2013-01-01</td>\n",
       "      <td>ATH</td>\n",
       "      <td>MIL</td>\n",
       "      <td>2013-01-04</td>\n",
       "    </tr>\n",
       "    <tr>\n",
       "      <th>2</th>\n",
       "      <td>2013-01-01</td>\n",
       "      <td>ICT</td>\n",
       "      <td>SFO</td>\n",
       "      <td>2013-08-02</td>\n",
       "    </tr>\n",
       "    <tr>\n",
       "      <th>3</th>\n",
       "      <td>2013-01-01</td>\n",
       "      <td>RNB</td>\n",
       "      <td>ARN</td>\n",
       "      <td>2013-01-02</td>\n",
       "    </tr>\n",
       "    <tr>\n",
       "      <th>4</th>\n",
       "      <td>2013-01-01</td>\n",
       "      <td>OSL</td>\n",
       "      <td>MAD</td>\n",
       "      <td>2013-03-22</td>\n",
       "    </tr>\n",
       "  </tbody>\n",
       "</table>\n",
       "</div>"
      ],
      "text/plain": [
       "         Date Origin Destination    Seg1Date\n",
       "0  2013-01-01    TXL         AUH  2013-01-26\n",
       "1  2013-01-01    ATH         MIL  2013-01-04\n",
       "2  2013-01-01    ICT         SFO  2013-08-02\n",
       "3  2013-01-01    RNB         ARN  2013-01-02\n",
       "4  2013-01-01    OSL         MAD  2013-03-22"
      ]
     },
     "execution_count": 7,
     "metadata": {},
     "output_type": "execute_result"
    }
   ],
   "source": [
    "pd.options.display.max_columns=None\n",
    "searches_sample=pd.read_csv (\"searches.csv.bz2\", sep=\"^\", nrows=5000, usecols=[\"Date\",\"Seg1Date\",\"Origin\",\"Destination\"])\n",
    "searches_sample.head()"
   ]
  },
  {
   "cell_type": "code",
   "execution_count": 17,
   "id": "3c6187e1",
   "metadata": {},
   "outputs": [
    {
     "name": "stdout",
     "output_type": "stream",
     "text": [
      "<class 'pandas.core.frame.DataFrame'>\n",
      "RangeIndex: 5000 entries, 0 to 4999\n",
      "Data columns (total 38 columns):\n",
      " #   Column     Non-Null Count  Dtype \n",
      "---  ------     --------------  ----- \n",
      " 0   act_date   5000 non-null   object\n",
      " 1   source     5000 non-null   object\n",
      " 2   pos_ctry   5000 non-null   object\n",
      " 3   pos_iata   5000 non-null   object\n",
      " 4   pos_oid    5000 non-null   object\n",
      " 5   rloc       5000 non-null   object\n",
      " 6   cre_date   5000 non-null   object\n",
      " 7   duration   5000 non-null   int64 \n",
      " 8   distance   5000 non-null   int64 \n",
      " 9   dep_port   5000 non-null   object\n",
      " 10  dep_city   5000 non-null   object\n",
      " 11  dep_ctry   5000 non-null   object\n",
      " 12  arr_port   5000 non-null   object\n",
      " 13  arr_city   5000 non-null   object\n",
      " 14  arr_ctry   5000 non-null   object\n",
      " 15  lst_port   5000 non-null   object\n",
      " 16  lst_city   5000 non-null   object\n",
      " 17  lst_ctry   5000 non-null   object\n",
      " 18  brd_port   5000 non-null   object\n",
      " 19  brd_city   5000 non-null   object\n",
      " 20  brd_ctry   5000 non-null   object\n",
      " 21  off_port   5000 non-null   object\n",
      " 22  off_city   5000 non-null   object\n",
      " 23  off_ctry   5000 non-null   object\n",
      " 24  mkt_port   5000 non-null   object\n",
      " 25  mkt_city   5000 non-null   object\n",
      " 26  mkt_ctry   5000 non-null   object\n",
      " 27  intl       5000 non-null   int64 \n",
      " 28  route      5000 non-null   object\n",
      " 29  carrier    5000 non-null   object\n",
      " 30  bkg_class  5000 non-null   object\n",
      " 31  cab_class  5000 non-null   object\n",
      " 32  brd_time   5000 non-null   object\n",
      " 33  off_time   5000 non-null   object\n",
      " 34  pax        5000 non-null   int64 \n",
      " 35  year       5000 non-null   int64 \n",
      " 36  month      5000 non-null   int64 \n",
      " 37  oid        5000 non-null   object\n",
      "dtypes: int64(6), object(32)\n",
      "memory usage: 1.4+ MB\n"
     ]
    }
   ],
   "source": [
    "booking_sample.info()"
   ]
  },
  {
   "cell_type": "code",
   "execution_count": 18,
   "id": "a813656b",
   "metadata": {},
   "outputs": [
    {
     "data": {
      "text/html": [
       "<div>\n",
       "<style scoped>\n",
       "    .dataframe tbody tr th:only-of-type {\n",
       "        vertical-align: middle;\n",
       "    }\n",
       "\n",
       "    .dataframe tbody tr th {\n",
       "        vertical-align: top;\n",
       "    }\n",
       "\n",
       "    .dataframe thead th {\n",
       "        text-align: right;\n",
       "    }\n",
       "</style>\n",
       "<table border=\"1\" class=\"dataframe\">\n",
       "  <thead>\n",
       "    <tr style=\"text-align: right;\">\n",
       "      <th></th>\n",
       "      <th>cre_date</th>\n",
       "      <th>dep_port</th>\n",
       "      <th>arr_port</th>\n",
       "      <th>brd_time</th>\n",
       "    </tr>\n",
       "  </thead>\n",
       "  <tbody>\n",
       "    <tr>\n",
       "      <th>0</th>\n",
       "      <td>2013-02-22 00:00:00</td>\n",
       "      <td>ZRH</td>\n",
       "      <td>LHR</td>\n",
       "      <td>2013-03-07 08:50:00</td>\n",
       "    </tr>\n",
       "    <tr>\n",
       "      <th>1</th>\n",
       "      <td>2013-03-26 00:00:00</td>\n",
       "      <td>SAL</td>\n",
       "      <td>CLT</td>\n",
       "      <td>2013-04-12 13:04:00</td>\n",
       "    </tr>\n",
       "    <tr>\n",
       "      <th>2</th>\n",
       "      <td>2013-03-26 00:00:00</td>\n",
       "      <td>SAL</td>\n",
       "      <td>CLT</td>\n",
       "      <td>2013-07-15 07:00:00</td>\n",
       "    </tr>\n",
       "    <tr>\n",
       "      <th>3</th>\n",
       "      <td>2013-03-26 00:00:00</td>\n",
       "      <td>AKL</td>\n",
       "      <td>SVO</td>\n",
       "      <td>2013-04-24 23:59:00</td>\n",
       "    </tr>\n",
       "    <tr>\n",
       "      <th>4</th>\n",
       "      <td>2013-03-26 00:00:00</td>\n",
       "      <td>AKL</td>\n",
       "      <td>SVO</td>\n",
       "      <td>2013-05-14 20:15:00</td>\n",
       "    </tr>\n",
       "  </tbody>\n",
       "</table>\n",
       "</div>"
      ],
      "text/plain": [
       "   cre_date             dep_port  arr_port  brd_time           \n",
       "0  2013-02-22 00:00:00  ZRH       LHR       2013-03-07 08:50:00\n",
       "1  2013-03-26 00:00:00  SAL       CLT       2013-04-12 13:04:00\n",
       "2  2013-03-26 00:00:00  SAL       CLT       2013-07-15 07:00:00\n",
       "3  2013-03-26 00:00:00  AKL       SVO       2013-04-24 23:59:00\n",
       "4  2013-03-26 00:00:00  AKL       SVO       2013-05-14 20:15:00"
      ]
     },
     "execution_count": 18,
     "metadata": {},
     "output_type": "execute_result"
    }
   ],
   "source": [
    "#6 -> \n",
    "booking_sample=pd.read_csv (\"bookings.csv.bz2\", sep=\"^\", nrows=5000, usecols=[6,9,12,32])\n",
    "#booking_sample.columns= booking_sample.columns.str.strip()\n",
    "#booking_sample.columns\n",
    "booking_sample.head()"
   ]
  },
  {
   "cell_type": "code",
   "execution_count": 19,
   "id": "935de43f",
   "metadata": {},
   "outputs": [
    {
     "data": {
      "text/html": [
       "<div>\n",
       "<style scoped>\n",
       "    .dataframe tbody tr th:only-of-type {\n",
       "        vertical-align: middle;\n",
       "    }\n",
       "\n",
       "    .dataframe tbody tr th {\n",
       "        vertical-align: top;\n",
       "    }\n",
       "\n",
       "    .dataframe thead th {\n",
       "        text-align: right;\n",
       "    }\n",
       "</style>\n",
       "<table border=\"1\" class=\"dataframe\">\n",
       "  <thead>\n",
       "    <tr style=\"text-align: right;\">\n",
       "      <th></th>\n",
       "      <th>Date</th>\n",
       "      <th>Origin</th>\n",
       "      <th>Destination</th>\n",
       "      <th>Seg1Date</th>\n",
       "    </tr>\n",
       "  </thead>\n",
       "  <tbody>\n",
       "    <tr>\n",
       "      <th>0</th>\n",
       "      <td>2013-01-01</td>\n",
       "      <td>TXL</td>\n",
       "      <td>AUH</td>\n",
       "      <td>2013-01-26</td>\n",
       "    </tr>\n",
       "    <tr>\n",
       "      <th>1</th>\n",
       "      <td>2013-01-01</td>\n",
       "      <td>ATH</td>\n",
       "      <td>MIL</td>\n",
       "      <td>2013-01-04</td>\n",
       "    </tr>\n",
       "    <tr>\n",
       "      <th>2</th>\n",
       "      <td>2013-01-01</td>\n",
       "      <td>ICT</td>\n",
       "      <td>SFO</td>\n",
       "      <td>2013-08-02</td>\n",
       "    </tr>\n",
       "    <tr>\n",
       "      <th>3</th>\n",
       "      <td>2013-01-01</td>\n",
       "      <td>RNB</td>\n",
       "      <td>ARN</td>\n",
       "      <td>2013-01-02</td>\n",
       "    </tr>\n",
       "    <tr>\n",
       "      <th>4</th>\n",
       "      <td>2013-01-01</td>\n",
       "      <td>OSL</td>\n",
       "      <td>MAD</td>\n",
       "      <td>2013-03-22</td>\n",
       "    </tr>\n",
       "  </tbody>\n",
       "</table>\n",
       "</div>"
      ],
      "text/plain": [
       "         Date Origin Destination    Seg1Date\n",
       "0  2013-01-01    TXL         AUH  2013-01-26\n",
       "1  2013-01-01    ATH         MIL  2013-01-04\n",
       "2  2013-01-01    ICT         SFO  2013-08-02\n",
       "3  2013-01-01    RNB         ARN  2013-01-02\n",
       "4  2013-01-01    OSL         MAD  2013-03-22"
      ]
     },
     "execution_count": 19,
     "metadata": {},
     "output_type": "execute_result"
    }
   ],
   "source": [
    "searches_sample.head()"
   ]
  },
  {
   "cell_type": "code",
   "execution_count": 21,
   "id": "8d0c6533",
   "metadata": {},
   "outputs": [
    {
     "data": {
      "text/plain": [
       "False"
      ]
     },
     "execution_count": 21,
     "metadata": {},
     "output_type": "execute_result"
    }
   ],
   "source": [
    "booking_sample.isnull().values.any()"
   ]
  },
  {
   "cell_type": "code",
   "execution_count": 22,
   "id": "5ccc2d05",
   "metadata": {},
   "outputs": [
    {
     "data": {
      "text/plain": [
       "True"
      ]
     },
     "execution_count": 22,
     "metadata": {},
     "output_type": "execute_result"
    }
   ],
   "source": [
    "searches_sample.isnull().values.any()"
   ]
  },
  {
   "cell_type": "code",
   "execution_count": 28,
   "id": "c3a6468a",
   "metadata": {},
   "outputs": [],
   "source": [
    "searches_sample_cleaned= searches_sample.dropna(how='any', axis=0)"
   ]
  },
  {
   "cell_type": "code",
   "execution_count": 29,
   "id": "d34ffc75",
   "metadata": {},
   "outputs": [
    {
     "data": {
      "text/plain": [
       "False"
      ]
     },
     "execution_count": 29,
     "metadata": {},
     "output_type": "execute_result"
    }
   ],
   "source": [
    "searches_sample_cleaned.isnull().values.any()"
   ]
  },
  {
   "cell_type": "code",
   "execution_count": 30,
   "id": "f7709d32",
   "metadata": {},
   "outputs": [
    {
     "data": {
      "text/plain": [
       "(4984, 4)"
      ]
     },
     "execution_count": 30,
     "metadata": {},
     "output_type": "execute_result"
    }
   ],
   "source": [
    "searches_sample_cleaned.shape"
   ]
  },
  {
   "cell_type": "code",
   "execution_count": 31,
   "id": "af3b2da5",
   "metadata": {},
   "outputs": [
    {
     "data": {
      "text/plain": [
       "(5000, 4)"
      ]
     },
     "execution_count": 31,
     "metadata": {},
     "output_type": "execute_result"
    }
   ],
   "source": [
    "searches_sample.shape"
   ]
  },
  {
   "cell_type": "code",
   "execution_count": 39,
   "id": "36262c3d",
   "metadata": {},
   "outputs": [
    {
     "name": "stdout",
     "output_type": "stream",
     "text": [
      "<class 'pandas.core.frame.DataFrame'>\n",
      "RangeIndex: 5000 entries, 0 to 4999\n",
      "Data columns (total 4 columns):\n",
      " #   Column               Non-Null Count  Dtype \n",
      "---  ------               --------------  ----- \n",
      " 0   cre_date             5000 non-null   object\n",
      " 1   dep_port             5000 non-null   object\n",
      " 2   arr_port             5000 non-null   object\n",
      " 3   brd_time             5000 non-null   object\n",
      "dtypes: object(4)\n",
      "memory usage: 156.4+ KB\n"
     ]
    }
   ],
   "source": [
    "booking_sample.info()"
   ]
  },
  {
   "cell_type": "code",
   "execution_count": 44,
   "id": "decc733e",
   "metadata": {},
   "outputs": [
    {
     "data": {
      "text/plain": [
       "6"
      ]
     },
     "execution_count": 44,
     "metadata": {},
     "output_type": "execute_result"
    }
   ],
   "source": [
    "searches_sample.duplicated().sum()"
   ]
  },
  {
   "cell_type": "code",
   "execution_count": 45,
   "id": "37cc1104",
   "metadata": {},
   "outputs": [
    {
     "data": {
      "text/plain": [
       "1364"
      ]
     },
     "execution_count": 45,
     "metadata": {},
     "output_type": "execute_result"
    }
   ],
   "source": [
    "booking_sample.duplicated().sum()"
   ]
  },
  {
   "cell_type": "code",
   "execution_count": 46,
   "id": "24fbc78b",
   "metadata": {},
   "outputs": [
    {
     "data": {
      "text/plain": [
       "(5000, 4)"
      ]
     },
     "execution_count": 46,
     "metadata": {},
     "output_type": "execute_result"
    }
   ],
   "source": [
    "booking_sample.shape"
   ]
  },
  {
   "cell_type": "code",
   "execution_count": 47,
   "id": "ff68bc1b",
   "metadata": {},
   "outputs": [],
   "source": [
    "booking_sample_cleaned=booking_sample.drop_duplicates()"
   ]
  },
  {
   "cell_type": "code",
   "execution_count": 48,
   "id": "5dc1c656",
   "metadata": {},
   "outputs": [
    {
     "data": {
      "text/plain": [
       "(3636, 4)"
      ]
     },
     "execution_count": 48,
     "metadata": {},
     "output_type": "execute_result"
    }
   ],
   "source": [
    "booking_sample_cleaned.shape"
   ]
  },
  {
   "cell_type": "code",
   "execution_count": 51,
   "id": "2808289e",
   "metadata": {},
   "outputs": [
    {
     "data": {
      "text/plain": [
       "702"
      ]
     },
     "execution_count": 51,
     "metadata": {},
     "output_type": "execute_result"
    }
   ],
   "source": [
    "searches_sample['Origin'].nunique()"
   ]
  },
  {
   "cell_type": "code",
   "execution_count": null,
   "id": "8b62b36c",
   "metadata": {},
   "outputs": [],
   "source": [
    "searches_sample_cleaned.merge(booking_sample_cleaned, how='left', left_on=[0,1,2], right_on=[0,1,2])"
   ]
  }
 ],
 "metadata": {
  "kernelspec": {
   "display_name": "Python 3 (ipykernel)",
   "language": "python",
   "name": "python3"
  },
  "language_info": {
   "codemirror_mode": {
    "name": "ipython",
    "version": 3
   },
   "file_extension": ".py",
   "mimetype": "text/x-python",
   "name": "python",
   "nbconvert_exporter": "python",
   "pygments_lexer": "ipython3",
   "version": "3.9.13"
  }
 },
 "nbformat": 4,
 "nbformat_minor": 5
}
